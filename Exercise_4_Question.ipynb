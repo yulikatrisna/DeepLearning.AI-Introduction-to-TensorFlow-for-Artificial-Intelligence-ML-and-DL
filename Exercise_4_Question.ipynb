{
  "nbformat": 4,
  "nbformat_minor": 0,
  "metadata": {
    "colab": {
      "name": "Exercise 4-Question.ipynb",
      "provenance": [],
      "toc_visible": true
    },
    "kernelspec": {
      "display_name": "Python 3",
      "name": "python3"
    }
  },
  "cells": [
    {
      "cell_type": "code",
      "metadata": {
        "id": "zX4Kg8DUTKWO"
      },
      "source": [
        "#@title Licensed under the Apache License, Version 2.0 (the \"License\");\n",
        "# you may not use this file except in compliance with the License.\n",
        "# You may obtain a copy of the License at\n",
        "#\n",
        "# https://www.apache.org/licenses/LICENSE-2.0\n",
        "#\n",
        "# Unless required by applicable law or agreed to in writing, software\n",
        "# distributed under the License is distributed on an \"AS IS\" BASIS,\n",
        "# WITHOUT WARRANTIES OR CONDITIONS OF ANY KIND, either express or implied.\n",
        "# See the License for the specific language governing permissions and\n",
        "# limitations under the License."
      ],
      "execution_count": null,
      "outputs": []
    },
    {
      "cell_type": "markdown",
      "metadata": {
        "id": "UncprnB0ymAE"
      },
      "source": [
        "Below is code with a link to a happy or sad dataset which contains 80 images, 40 happy and 40 sad. \n",
        "Create a convolutional neural network that trains to 100% accuracy on these images,  which cancels training upon hitting training accuracy of >.999\n",
        "\n",
        "Hint -- it will work best with 3 convolutional layers."
      ]
    },
    {
      "cell_type": "code",
      "metadata": {
        "colab": {
          "base_uri": "https://localhost:8080/"
        },
        "id": "7Vti6p3PxmpS",
        "outputId": "d1a155a0-c23c-41db-c1e8-2727b4b1751f"
      },
      "source": [
        "import tensorflow as tf\n",
        "import os\n",
        "import zipfile\n",
        "\n",
        "\n",
        "DESIRED_ACCURACY = 0.999\n",
        "\n",
        "!wget --no-check-certificate \\\n",
        "    \"https://storage.googleapis.com/laurencemoroney-blog.appspot.com/happy-or-sad.zip\" \\\n",
        "    -O \"/tmp/happy-or-sad.zip\"\n",
        "\n",
        "zip_ref = zipfile.ZipFile(\"/tmp/happy-or-sad.zip\", 'r')\n",
        "zip_ref.extractall(\"/tmp/h-or-s\")\n",
        "zip_ref.close()\n",
        "\n",
        "class myCallback(tf.keras.callbacks.Callback):\n",
        "  # Your Code\n",
        "  def on_epoch_end(self, epoch, logs):\n",
        "      if logs.get('acc') > DESIRED_ACCURACY :\n",
        "        print('\\nReached 99.9% accuracy so cancelling training!')\n",
        "        model.stop_training = True\n",
        "\n",
        "callbacks = myCallback()"
      ],
      "execution_count": 1,
      "outputs": [
        {
          "output_type": "stream",
          "text": [
            "--2021-03-31 00:56:11--  https://storage.googleapis.com/laurencemoroney-blog.appspot.com/happy-or-sad.zip\n",
            "Resolving storage.googleapis.com (storage.googleapis.com)... 173.194.215.128, 173.194.216.128, 173.194.217.128, ...\n",
            "Connecting to storage.googleapis.com (storage.googleapis.com)|173.194.215.128|:443... connected.\n",
            "HTTP request sent, awaiting response... 200 OK\n",
            "Length: 2670333 (2.5M) [application/zip]\n",
            "Saving to: ‘/tmp/happy-or-sad.zip’\n",
            "\n",
            "\r/tmp/happy-or-sad.z   0%[                    ]       0  --.-KB/s               \r/tmp/happy-or-sad.z 100%[===================>]   2.55M  --.-KB/s    in 0.02s   \n",
            "\n",
            "2021-03-31 00:56:11 (164 MB/s) - ‘/tmp/happy-or-sad.zip’ saved [2670333/2670333]\n",
            "\n"
          ],
          "name": "stdout"
        }
      ]
    },
    {
      "cell_type": "code",
      "metadata": {
        "id": "6DLGbXXI1j_V"
      },
      "source": [
        "# This Code Block should Define and Compile the Model\n",
        "model = tf.keras.models.Sequential([\n",
        "# Your Code Here\n",
        "        tf.keras.layers.Conv2D(16, (3,3), activation='relu', input_shape=(150,150,3)),\n",
        "        tf.keras.layers.MaxPooling2D(2,2),\n",
        "        tf.keras.layers.Conv2D(16, (3,3), activation='relu'),\n",
        "        tf.keras.layers.MaxPooling2D(2,2),\n",
        "        tf.keras.layers.Conv2D(16, (3,3), activation='relu'),\n",
        "        tf.keras.layers.MaxPooling2D(2,2),\n",
        "        tf.keras.layers.Flatten(),\n",
        "        tf.keras.layers.Dense(32, activation='relu'),\n",
        "        tf.keras.layers.Dense(1, activation='sigmoid')\n",
        "])\n",
        "\n",
        "from tensorflow.keras.optimizers import RMSprop\n",
        "\n",
        "model.compile(optimizer=RMSprop(lr=0.001), loss='binary_crossentropy', metrics=['acc'])"
      ],
      "execution_count": 2,
      "outputs": []
    },
    {
      "cell_type": "code",
      "metadata": {
        "colab": {
          "base_uri": "https://localhost:8080/"
        },
        "id": "4Ap9fUJE1vVu",
        "outputId": "bcd3da5e-0f72-42af-d69b-85b0784dd422"
      },
      "source": [
        "# This code block should create an instance of an ImageDataGenerator called train_datagen \n",
        "# And a train_generator by calling train_datagen.flow_from_directory\n",
        "\n",
        "from tensorflow.keras.preprocessing.image import ImageDataGenerator\n",
        "\n",
        "train_datagen = ImageDataGenerator(rescale=1/255)\n",
        "\n",
        "train_generator = train_datagen.flow_from_directory(\n",
        "        \"/tmp/h-or-s\",\n",
        "        target_size=(150,150),\n",
        "        batch_size = 5,\n",
        "        class_mode = 'binary')\n",
        "\n",
        "# Expected output: 'Found 80 images belonging to 2 classes'"
      ],
      "execution_count": 5,
      "outputs": [
        {
          "output_type": "stream",
          "text": [
            "Found 80 images belonging to 2 classes.\n"
          ],
          "name": "stdout"
        }
      ]
    },
    {
      "cell_type": "code",
      "metadata": {
        "colab": {
          "base_uri": "https://localhost:8080/"
        },
        "id": "48dLm13U1-Le",
        "outputId": "676938e7-049a-4441-d0cf-5a2529a25dca"
      },
      "source": [
        "# This code block should call model.fit and train for\n",
        "# a number of epochs. \n",
        "history = model.fit(\n",
        "      train_generator,\n",
        "      epochs = 20,\n",
        "      verbose=1,\n",
        "      steps_per_epoch=8,\n",
        "      callbacks=[callbacks])\n",
        "    \n",
        "# Expected output: \"Reached 99.9% accuracy so cancelling training!\"\""
      ],
      "execution_count": 6,
      "outputs": [
        {
          "output_type": "stream",
          "text": [
            "Epoch 1/20\n",
            "8/8 [==============================] - 2s 87ms/step - loss: 0.8982 - acc: 0.4845\n",
            "Epoch 2/20\n",
            "8/8 [==============================] - 1s 83ms/step - loss: 0.5833 - acc: 0.6879\n",
            "Epoch 3/20\n",
            "8/8 [==============================] - 1s 88ms/step - loss: 0.3838 - acc: 0.8863\n",
            "Epoch 4/20\n",
            "8/8 [==============================] - 1s 85ms/step - loss: 0.2028 - acc: 0.9297\n",
            "Epoch 5/20\n",
            "8/8 [==============================] - 1s 86ms/step - loss: 0.2139 - acc: 0.9088\n",
            "Epoch 6/20\n",
            "8/8 [==============================] - 1s 84ms/step - loss: 0.2422 - acc: 0.8383\n",
            "Epoch 7/20\n",
            "8/8 [==============================] - 1s 83ms/step - loss: 0.0706 - acc: 1.0000\n",
            "\n",
            "Reached 99.9% accuracy so cancelling training!\n"
          ],
          "name": "stdout"
        }
      ]
    },
    {
      "cell_type": "code",
      "metadata": {
        "id": "YgGPQRyEy3A4"
      },
      "source": [
        ""
      ],
      "execution_count": null,
      "outputs": []
    }
  ]
}